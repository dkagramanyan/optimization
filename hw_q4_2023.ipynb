{
 "cells": [
  {
   "cell_type": "code",
   "execution_count": 1,
   "id": "aa0913ac07655a2a",
   "metadata": {
    "ExecuteTime": {
     "end_time": "2023-12-14T20:11:15.679454Z",
     "start_time": "2023-12-14T20:11:14.611253Z"
    }
   },
   "outputs": [],
   "source": [
    "import numpy as np\n",
    "import scipy\n",
    "\n",
    "import sympy as sp"
   ]
  },
  {
   "cell_type": "markdown",
   "id": "b9bb8dcf05d878e4",
   "metadata": {},
   "source": [
    "# 1) Правило Армихо"
   ]
  },
  {
   "cell_type": "markdown",
   "id": "7129a2a8",
   "metadata": {},
   "source": [
    "$x^0=(-1,1)$"
   ]
  },
  {
   "cell_type": "markdown",
   "id": "c2ac3a81",
   "metadata": {},
   "source": [
    "$f:R^2\\rightarrow R, f(x)=2x_1^2+x_1x_2+3x^2_2$"
   ]
  },
  {
   "cell_type": "code",
   "execution_count": 17,
   "id": "35cc320117899079",
   "metadata": {
    "ExecuteTime": {
     "end_time": "2023-12-14T19:18:20.563994Z",
     "start_time": "2023-12-14T19:18:20.555658Z"
    }
   },
   "outputs": [],
   "source": [
    "def func(x):\n",
    "    return 2 * x[0] ** 2 + x[0] * x[1] + 3 * x[1] ** 2\n",
    "\n",
    "def func_grad(x):\n",
    "    return np.array([4*x[0] + x[1], x[0] + 6*x[1]])\n"
   ]
  },
  {
   "cell_type": "code",
   "execution_count": 18,
   "id": "95896ca0cca445ba",
   "metadata": {
    "ExecuteTime": {
     "end_time": "2023-12-14T19:18:21.823895Z",
     "start_time": "2023-12-14T19:18:21.819524Z"
    }
   },
   "outputs": [
    {
     "name": "stdout",
     "output_type": "stream",
     "text": [
      "i=0, solution x1=-1.0 x2=1.0\n",
      "i=1, solution x1=2.0 x2=-4.0\n",
      "i=2, solution x1=0.0 x2=7.0\n",
      "i=3, solution x1=-1.75 x2=-3.5\n",
      "i=4, solution x1=0.875 x2=2.1875\n",
      "i=5, solution x1=-0.546875 x2=-1.3125\n",
      "i=6, solution x1=0.328125 x2=0.79296875\n",
      "i=7, solution x1=-0.1982421875 x2=-0.478515625\n",
      "i=8, solution x1=0.11962890625 x2=0.288818359375\n",
      "i=9, solution x1=-0.07220458984375 x2=-0.17431640625\n",
      "i=10, solution x1=0.0435791015625 x2=0.1052093505859375\n",
      "i=11, solution x1=-0.026302337646484375 x2=-0.06349945068359375\n",
      "i=12, solution x1=0.015874862670898438 x2=0.03832530975341797\n",
      "i=13, solution x1=-0.009581327438354492 x2=-0.023131370544433594\n",
      "i=14, solution x1=0.0057828426361083984 x2=0.01396101713180542\n",
      "i=15, solution x1=-0.003490254282951355 x2=-0.00842621922492981\n",
      "i=16, solution x1=0.0021065548062324524 x2=0.0050856731832027435\n",
      "i=17, solution x1=-0.0012714182958006859 x2=-0.003069475293159485\n",
      "i=18, solution x1=0.0007673688232898712 x2=0.001852592220529914\n",
      "i=19, solution x1=-0.0004631480551324785 x2=-0.0011181383160874248\n",
      "i=20, solution x1=0.0002795345790218562 x2=0.000674856171826832\n",
      "i=21, solution x1=-0.000168714042956708 x2=-0.00040731173066888005\n",
      "i=22, solution x1=0.00010182793266722001 x2=0.000245834376073617\n",
      "i=23, solution x1=-6.145859401840426e-05 x2=-0.00014837417120361351\n",
      "i=24, solution x1=3.709354280090338e-05 x2=8.955173410640782e-05\n",
      "i=25, solution x1=-2.2387933526601955e-05 x2=-5.4049252753429755e-05\n",
      "i=26, solution x1=1.3512313188357439e-05 x2=3.2621609758365366e-05\n",
      "i=27, solution x1=-8.155402439591342e-06 x2=-1.9688883176272043e-05\n",
      "i=28, solution x1=4.922220794068011e-06 x2=1.1883292198033857e-05\n",
      "solution x1=4.922220794068011e-06 x2=1.1883292198033857e-05\n",
      "CPU times: user 1.87 ms, sys: 842 µs, total: 2.71 ms\n",
      "Wall time: 2.96 ms\n"
     ]
    }
   ],
   "source": [
    "%%time\n",
    "\n",
    "x0 = np.array([-1.0, 1.0])\n",
    "\n",
    "alpha = 1.\n",
    "eps = 1e-4\n",
    "theta = 0.5\n",
    "\n",
    "x=x0\n",
    "count = 0\n",
    "N=1000\n",
    "\n",
    "\n",
    "while count < N:\n",
    "    print(f\"i={count}, solution x1={x[0]} x2={x[1]}\")\n",
    "    grad=func_grad(x)\n",
    "    new_x = x - alpha * func_grad(x)\n",
    "    \n",
    "    if func(new_x) > func(x) + eps * alpha*np.cross(-grad, grad ):\n",
    "        alpha = theta * alpha\n",
    "    \n",
    "    count += 1\n",
    "    if np.linalg.norm(grad) < eps:\n",
    "        break\n",
    "    else:\n",
    "        x=new_x\n",
    "print(f\"solution x1={x[0]} x2={x[1]}\")"
   ]
  },
  {
   "cell_type": "markdown",
   "id": "8f6914b3c166c30d",
   "metadata": {},
   "source": [
    "# 2) Метод Ньютона"
   ]
  },
  {
   "cell_type": "markdown",
   "id": "e349892d18667f19",
   "metadata": {},
   "source": [
    "$x^0=(1,1)$"
   ]
  },
  {
   "cell_type": "markdown",
   "id": "c0395a5a14ee4657",
   "metadata": {},
   "source": [
    "$f:R^2\\rightarrow R, f(x)=x_1^2+e^{x^2_2}$"
   ]
  },
  {
   "cell_type": "code",
   "execution_count": 19,
   "id": "654ffbe15d668b28",
   "metadata": {
    "collapsed": false,
    "ExecuteTime": {
     "end_time": "2023-12-14T19:18:25.396324Z",
     "start_time": "2023-12-14T19:18:25.393651Z"
    }
   },
   "outputs": [],
   "source": [
    "def func(x):\n",
    "    return np.array(x[0] ** 2 + np.exp(x[1] ** 2))\n",
    "\n",
    "def jacob(x):\n",
    "    return np.array([2 * x[0],2 * x[1] *np.exp(x[1]**2)])\n",
    "\n",
    "def hessian(x):\n",
    "    return np.array([2, 2 * np.exp(x[1] ** 2) * (1 + 2 * x[1] ** 2)])\n"
   ]
  },
  {
   "cell_type": "code",
   "execution_count": 34,
   "outputs": [
    {
     "name": "stdout",
     "output_type": "stream",
     "text": [
      "i=0, solution x1=1.0 x2=1.0\n",
      "i=1, solution x1=0.0 x2=0.6666666666666667\n",
      "i=2, solution x1=0.0 x2=0.3137254901960785\n",
      "i=3, solution x1=0.0 x2=0.0515989241825866\n",
      "i=4, solution x1=0.0 x2=0.00027330369152017003\n",
      "Solution x1=0.0 x2=4.082878197857187e-11\n",
      "CPU times: user 200 µs, sys: 21 µs, total: 221 µs\n",
      "Wall time: 205 µs\n"
     ]
    }
   ],
   "source": [
    "%%time\n",
    "x0 = np.array([1.0, 1.0])\n",
    "count = 0\n",
    "precision=1e-10\n",
    "N=1000\n",
    "\n",
    "x=x0\n",
    "\n",
    "while count<N:\n",
    "    print(f\"i={count}, solution x1={x[0]} x2={x[1]}\")\n",
    "    \n",
    "    x=x-jacob(x)/hessian(x)\n",
    "    if np.linalg.norm(jacob(x)) < precision:\n",
    "        break\n",
    "\n",
    "    count += 1\n",
    "\n",
    "\n",
    "print(f\"Solution x1={x[0]} x2={x[1]}\")"
   ],
   "metadata": {
    "ExecuteTime": {
     "end_time": "2023-12-14T20:08:32.123475Z",
     "start_time": "2023-12-14T20:08:32.118175Z"
    }
   },
   "id": "7ed8b842665ab3bb"
  },
  {
   "cell_type": "markdown",
   "id": "fcaac075d8ec315",
   "metadata": {},
   "source": [
    "# 3) Метод сопряженных градиентов"
   ]
  },
  {
   "cell_type": "markdown",
   "id": "7cf4b66d",
   "metadata": {},
   "source": [
    "$x^0=(1,1)$"
   ]
  },
  {
   "cell_type": "markdown",
   "id": "f2876be9",
   "metadata": {},
   "source": [
    "$f:R^2\\rightarrow R, f(x)=x_1^2+2x_2^2$"
   ]
  },
  {
   "cell_type": "code",
   "execution_count": 2,
   "outputs": [],
   "source": [
    "def func(x):\n",
    "    return np.array(x[0] ** 2 + 2*x[1]**2)\n",
    "\n",
    "def func_grad(x):\n",
    "    return np.array([2*x[0], 4*x[1]])\n"
   ],
   "metadata": {
    "collapsed": false,
    "ExecuteTime": {
     "end_time": "2023-12-14T20:11:20.695366Z",
     "start_time": "2023-12-14T20:11:20.687967Z"
    }
   },
   "id": "5038b1899119c21b"
  },
  {
   "cell_type": "code",
   "execution_count": 26,
   "outputs": [
    {
     "name": "stdout",
     "output_type": "stream",
     "text": [
      "i=1, solution x1=0.4444444444444444 x2=-0.11111111111111116\n",
      "i=2, solution x1=5.551115123125783e-17 x2=-6.938893903907228e-17\n",
      "Solution x1=5.551115123125783e-17 x2=-6.938893903907228e-17\n",
      "CPU times: user 800 µs, sys: 345 µs, total: 1.15 ms\n",
      "Wall time: 1.03 ms\n"
     ]
    }
   ],
   "source": [
    "%%time\n",
    "\n",
    "x0 = np.array([1., 1.])\n",
    "\n",
    "A = np.array([[1., 0.], [0., 2.]])\n",
    "grad = -func_grad(x0)\n",
    "beta = 0.\n",
    "N=1000\n",
    "\n",
    "count=0\n",
    "x = x0\n",
    "\n",
    "while count < N:\n",
    "    if count >= 1:\n",
    "        # параметр сопряженности\n",
    "        beta = np.dot(A @ grad, func_grad(x)) / np.dot(A @ grad, grad)\n",
    "        # beta=np.linalg.norm(func_grad(x))/np.linalg.norm(grad)\n",
    "        \n",
    "    grad = beta * grad - func_grad(x)\n",
    "    alpha = - np.dot(A @ x, grad) / (np.dot(A @ grad, grad))\n",
    "    x = x+  alpha * grad\n",
    "\n",
    "    count += 1\n",
    "    print(f\"i={count}, solution x1={x[0]} x2={x[1]}\")\n",
    "    if np.linalg.norm(func_grad(x)) < 1e-9:\n",
    "        break\n",
    "    \n",
    "\n",
    "print(f\"Solution x1={x[0]} x2={x[1]}\")"
   ],
   "metadata": {
    "collapsed": false,
    "ExecuteTime": {
     "end_time": "2023-12-14T20:48:12.654663Z",
     "start_time": "2023-12-14T20:48:12.646470Z"
    }
   },
   "id": "abb693d7"
  },
  {
   "cell_type": "markdown",
   "id": "9139a93524cf08f0",
   "metadata": {},
   "source": [
    "# 4) Метод условного градиента"
   ]
  },
  {
   "cell_type": "markdown",
   "source": [
    "$x^0=(0,0)$"
   ],
   "metadata": {
    "collapsed": false
   },
   "id": "bb1c6bee525dd269"
  },
  {
   "cell_type": "markdown",
   "source": [
    "$f:R^2\\rightarrow R, f(x)=x_1^2-4x_1+x_2^2-2x_2$"
   ],
   "metadata": {
    "collapsed": false
   },
   "id": "479db59a532b190f"
  },
  {
   "cell_type": "code",
   "execution_count": 37,
   "id": "81fcfafb5223e9ff",
   "metadata": {
    "ExecuteTime": {
     "end_time": "2023-12-14T21:11:53.832539Z",
     "start_time": "2023-12-14T21:11:53.825972Z"
    }
   },
   "outputs": [],
   "source": [
    "def func(x):\n",
    "    return np.array(x[0]**2 - 4*x[0] + x[1]**2 - 2*x[1])\n",
    "\n",
    "def func_grad(x):\n",
    "    return np.array([2*x[0] - 4, 2*x[1] - 2])\n"
   ]
  },
  {
   "cell_type": "code",
   "execution_count": 54,
   "outputs": [
    {
     "name": "stdout",
     "output_type": "stream",
     "text": [
      "i=0, solution x1=0.8000000001441765 x2=1.600000000288353\n",
      "i=1, solution x1=0.8923076945429015 x2=0.8615384444331233\n",
      "i=2, solution x1=0.9151131228917716 x2=1.1026244098902052\n",
      "i=3, solution x1=0.9293593412676299 x2=0.9175754522071443\n",
      "i=4, solution x1=0.9392562675381645 x2=1.0692257359836421\n",
      "i=5, solution x1=0.9465889144434657 x2=0.9401547278931397\n",
      "i=6, solution x1=0.9522657295784155 x2=1.0528007379622073\n",
      "i=7, solution x1=0.9568042683292424 x2=0.9527012307540692\n",
      "i=8, solution x1=0.9605233974437478 x2=1.0428730878712649\n",
      "\n",
      "Numerical solution: x1 = 0.9605233974437478, x2 = 1.0428730878712649\n",
      "CPU times: user 15.7 ms, sys: 4.85 ms, total: 20.5 ms\n",
      "Wall time: 17 ms\n"
     ]
    }
   ],
   "source": [
    "%%time\n",
    "\n",
    "N=1000\n",
    "\n",
    "\n",
    "x0 = np.array([0., 0.])\n",
    "x = x0\n",
    "count = 0\n",
    "while count < N:\n",
    "\n",
    "    d = scipy.optimize.minimize(lambda x_: np.dot(func_grad(x), x_ - x), x, bounds=((0, 1), (0, 2))).x - x\n",
    "\n",
    "    lmbd = scipy.optimize.minimize(lambda alpha: func(x + alpha*d), 1.).x\n",
    "\n",
    "    x_old=x\n",
    "    x = x + lmbd * d\n",
    "\n",
    "    print(f\"i={count}, solution x1={x[0]} x2={x[1]}\")\n",
    "\n",
    "    count+=1\n",
    "    if np.linalg.norm(x - x_old) <= 0.1:\n",
    "        break\n",
    "\n",
    "print(f'\\nNumerical solution: x1 = {x[0]}, x2 = {x[1]}')\n"
   ],
   "metadata": {
    "collapsed": false,
    "ExecuteTime": {
     "end_time": "2023-12-14T21:22:45.568075Z",
     "start_time": "2023-12-14T21:22:45.548653Z"
    }
   },
   "id": "9baad016930ab73d"
  },
  {
   "cell_type": "markdown",
   "id": "c5fc931953781f9a",
   "metadata": {},
   "source": [
    "# 5) Метод квадратичного штрафа"
   ]
  },
  {
   "cell_type": "markdown",
   "id": "1e02dd93",
   "metadata": {},
   "source": [
    "$f(x)=2x^2_1+(x_2-1)^2\\rightarrow min, x \\in D=\\{x \\in R^2 | 2x_1+x_2=2\\} $"
   ]
  },
  {
   "cell_type": "code",
   "execution_count": 6,
   "id": "effbb67c6c04876f",
   "metadata": {
    "ExecuteTime": {
     "end_time": "2023-12-12T16:10:10.340722Z",
     "start_time": "2023-12-12T16:10:10.279530Z"
    }
   },
   "outputs": [
    {
     "name": "stdout",
     "output_type": "stream",
     "text": [
      "Solution x1=-1.0 x2=1.0\n",
      "Solution x1=-0.1999996405150699 x2=0.7999997546943637\n",
      "Solution x1=-0.3333399450214094 x2=0.6666865482538418\n",
      "Inner Iters num: 11\n",
      "Solution x1=-0.333341 x2=0.666686\n"
     ]
    }
   ],
   "source": [
    "def func(x):\n",
    "    return 2 * x[0] ** 2 + (x[1] - 1) ** 2\n",
    "\n",
    "def F(x):\n",
    "    return 2 * x[0] + x[1]\n",
    "\n",
    "def penalty(x):\n",
    "    return 0.5 * np.linalg.norm(F(x)) ** 2\n",
    "\n",
    "def quadratic(x,N=10000): \n",
    "    c_k = 1\n",
    "    count = 0 \n",
    "    iters=0 \n",
    "    flag=True \n",
    "    eps=1e-5 \n",
    "    while flag:\n",
    "        print(f\"Solution x1={x[0]} x2={x[1]}\")\n",
    "        curr_func = lambda x: func(x) + c_k * penalty(x) \n",
    "        x_old=x.copy()\n",
    "        data = scipy.optimize.minimize(curr_func, x)\n",
    "        iters+=data.nit\n",
    "        x=data.x \n",
    "        c_k += 1e5\n",
    "        count += 1\n",
    "        if np.linalg.norm(x-x_old) < eps or count>N:\n",
    "            flag=False\n",
    "    print(\"Inner Iters num: \" + str(iters))\n",
    "    return x\n",
    "x0 = np.array([-1.0, 1.0])\n",
    "x = quadratic(x0)\n",
    "print(f\"Solution x1={x[0]:2f} x2={x[1]:2f}\")"
   ]
  },
  {
   "cell_type": "markdown",
   "source": [
    "# 6) Симплекс метод"
   ],
   "metadata": {
    "collapsed": false
   },
   "id": "bc848a3a248ceece"
  },
  {
   "cell_type": "code",
   "execution_count": 56,
   "outputs": [],
   "source": [
    "x0_ = np.array([1., 0., 1., 0.])\n",
    "c_ = np.array([-1., 3., 5., 1.])\n",
    "\n",
    "A_eq_ = np.array([[1., 4., 4., 1.],\n",
    "                  [1., 7., 8., 2.]])\n",
    "\n",
    "b_eq_ = np.array([5., 9.])"
   ],
   "metadata": {
    "collapsed": false,
    "ExecuteTime": {
     "end_time": "2023-12-14T21:24:21.705790Z",
     "start_time": "2023-12-14T21:24:21.700447Z"
    }
   },
   "id": "452b00a8851a57bb"
  },
  {
   "cell_type": "code",
   "execution_count": 57,
   "outputs": [
    {
     "name": "stderr",
     "output_type": "stream",
     "text": [
      "/Users/dkagramanan/opt/anaconda3/envs/torch/lib/python3.9/site-packages/scipy/optimize/_linprog.py:582: OptimizeWarning: x0 is used only when method is 'revised simplex'. \n",
      "  warn(warning_message, OptimizeWarning)\n"
     ]
    },
    {
     "data": {
      "text/plain": "           con: array([0., 0.])\n crossover_nit: 0\n         eqlin:  marginals: array([-3.,  2.])\n  residual: array([0., 0.])\n           fun: 3.0\n       ineqlin:  marginals: array([], dtype=float64)\n  residual: array([], dtype=float64)\n         lower:  marginals: array([0., 1., 1., 0.])\n  residual: array([1., 0., 0., 4.])\n       message: 'Optimization terminated successfully. (HiGHS Status 7: Optimal)'\n           nit: 2\n         slack: array([], dtype=float64)\n        status: 0\n       success: True\n         upper:  marginals: array([0., 0., 0., 0.])\n  residual: array([inf, inf, inf, inf])\n             x: array([1., 0., 0., 4.])"
     },
     "execution_count": 57,
     "metadata": {},
     "output_type": "execute_result"
    }
   ],
   "source": [
    "res = scipy.optimize.linprog(c=c_, A_eq=A_eq_, b_eq=b_eq_, x0=x0_, method='highs')\n",
    "res"
   ],
   "metadata": {
    "collapsed": false,
    "ExecuteTime": {
     "end_time": "2023-12-14T21:24:23.264468Z",
     "start_time": "2023-12-14T21:24:23.235206Z"
    }
   },
   "id": "79bfddfe61a9a8c6"
  }
 ],
 "metadata": {
  "kernelspec": {
   "display_name": "Python 3 (ipykernel)",
   "language": "python",
   "name": "python3"
  },
  "language_info": {
   "codemirror_mode": {
    "name": "ipython",
    "version": 3
   },
   "file_extension": ".py",
   "mimetype": "text/x-python",
   "name": "python",
   "nbconvert_exporter": "python",
   "pygments_lexer": "ipython3",
   "version": "3.9.13"
  }
 },
 "nbformat": 4,
 "nbformat_minor": 5
}
