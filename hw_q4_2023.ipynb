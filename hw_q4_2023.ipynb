{
 "cells": [
  {
   "cell_type": "code",
   "execution_count": 2,
   "id": "aa0913ac07655a2a",
   "metadata": {
    "ExecuteTime": {
     "end_time": "2023-12-10T07:34:00.438969Z",
     "start_time": "2023-12-10T07:34:00.431121Z"
    }
   },
   "outputs": [],
   "source": [
    "import numpy as np\n",
    "import scipy\n",
    "import sympy as sp"
   ]
  },
  {
   "cell_type": "markdown",
   "id": "b9bb8dcf05d878e4",
   "metadata": {},
   "source": [
    "# 1) Правило Армихо"
   ]
  },
  {
   "cell_type": "markdown",
   "id": "18955264",
   "metadata": {},
   "source": [
    "$x^0=(-1,1)$"
   ]
  },
  {
   "cell_type": "markdown",
   "id": "520f4331",
   "metadata": {},
   "source": [
    "$f:R^2\\rightarrow R, f(x)=2x_1^2+x_1x_2+3x^2_2$"
   ]
  },
  {
   "cell_type": "code",
   "execution_count": 3,
   "id": "initial_id",
   "metadata": {
    "ExecuteTime": {
     "end_time": "2023-12-10T07:25:55.541102Z",
     "start_time": "2023-12-10T07:25:55.519762Z"
    }
   },
   "outputs": [
    {
     "name": "stdout",
     "output_type": "stream",
     "text": [
      "Iters num: 15\n",
      "Solution x1=-0.00010639708489179611 x2=-0.0002568652853369713\n"
     ]
    }
   ],
   "source": [
    "def func(x):\n",
    "    return 2 * x[0] ** 2 + x[0] * x[1] + 3 * x[1] ** 2\n",
    "\n",
    "def f_grad(x):\n",
    "    grad = np.zeros_like(x)\n",
    "    grad[0] = 4 * x[0] + x[1]\n",
    "    grad[1] = x[0] + 6 * x[1] \n",
    "    return grad\n",
    "\n",
    "def grad_descent(x, alpha, eps, theta, precision): \n",
    "    count = 0\n",
    "    flag=True \n",
    "    while flag:\n",
    "        last_x = x\n",
    "        x_alpha = x - alpha * f_grad(x)\n",
    "        # условие Армихо\n",
    "        while func(x_alpha) > func(x) + eps * np.cross(f_grad(x), x_alpha ):\n",
    "            alpha = theta * alpha\n",
    "            x_alpha = x - alpha * f_grad(x)\n",
    "            \n",
    "        x = x - alpha * f_grad(x)\n",
    "        count += 1\n",
    "        if np.linalg.norm(x - last_x) < precision:\n",
    "            flag=False\n",
    "                \n",
    "    print(\"Iters num: \" + str(count)) \n",
    "    return x\n",
    "\n",
    "\n",
    "x0 = np.array([-1.0, 1.0])\n",
    "alpha = 1 \n",
    "eps = 0.5 \n",
    "theta = 0.5\n",
    "result = grad_descent(x0, alpha=alpha, eps=eps, theta=theta, precision=0.001)\n",
    "print(f\"Solution x1={result[0]} x2={result[1]}\")"
   ]
  },
  {
   "cell_type": "markdown",
   "id": "8f6914b3c166c30d",
   "metadata": {},
   "source": [
    "# 2) Метод Ньютона"
   ]
  },
  {
   "cell_type": "markdown",
   "id": "e349892d18667f19",
   "metadata": {},
   "source": [
    "$x^0=(1,1)$"
   ]
  },
  {
   "cell_type": "markdown",
   "id": "c0395a5a14ee4657",
   "metadata": {},
   "source": [
    "$f:R^2\\rightarrow R, f(x)=x_1^2+e^{x^2_2}$"
   ]
  },
  {
   "cell_type": "code",
   "execution_count": 5,
   "id": "23db6cb3aa265427",
   "metadata": {
    "ExecuteTime": {
     "end_time": "2023-12-10T07:26:19.368522Z",
     "start_time": "2023-12-10T07:26:19.093775Z"
    }
   },
   "outputs": [
    {
     "name": "stdout",
     "output_type": "stream",
     "text": [
      "Iters num: 7\n",
      "Solution x1=0.0 x2=0.0\n",
      "[0.04924812 0.04924812]\n"
     ]
    }
   ],
   "source": [
    "def func(x):\n",
    "    return np.array(x[0] ** 2 + np.exp(x[1] ** 2))\n",
    "\n",
    "def jacob(x):\n",
    "    grad = np.zeros_like(x)\n",
    "    grad[0] = 2 * x[0]\n",
    "    grad[1] = 2 * x[1] *np.exp(x[1]**2) \n",
    "    return grad\n",
    "\n",
    "def hessian(x):\n",
    "    grad = np.zeros_like(x)\n",
    "    grad[0] = 2\n",
    "    grad[1] = 2 * np.exp(x[1] ** 2) * (1 + 2 * x[1] ** 2)\n",
    "    return grad\n",
    "\n",
    "\n",
    "def newton(x, precision): \n",
    "    count = 0\n",
    "    flag=True \n",
    "    while flag:\n",
    "        count += 1 \n",
    "        x_last = x\n",
    "        x=x-jacob(x)/hessian(x)\n",
    "        if np.linalg.norm(x - x_last) < precision: \n",
    "            flag=False\n",
    "\n",
    "    print(\"Iters num: \" + str(count)) \n",
    "    return x\n",
    "\n",
    "x0 = np.array([1.0, 1.0])\n",
    "result = newton(x0, precision=1e-12)\n",
    "print(f\"Solution x1={result[0]} x2={result[1]}\") \n",
    "print(scipy.optimize.newton(func, x0, maxiter=1000))"
   ]
  },
  {
   "cell_type": "markdown",
   "id": "fcaac075d8ec315",
   "metadata": {},
   "source": [
    "# 3) Метод сопряженных градиентов"
   ]
  },
  {
   "cell_type": "code",
   "execution_count": null,
   "id": "e26e1d03660a358a",
   "metadata": {},
   "outputs": [],
   "source": []
  },
  {
   "cell_type": "markdown",
   "id": "9139a93524cf08f0",
   "metadata": {},
   "source": [
    "# 4) Метод условного градиента"
   ]
  },
  {
   "cell_type": "code",
   "execution_count": null,
   "id": "81fcfafb5223e9ff",
   "metadata": {},
   "outputs": [],
   "source": []
  },
  {
   "cell_type": "markdown",
   "id": "c5fc931953781f9a",
   "metadata": {},
   "source": [
    "# 5) Метод квадратичного штрафа"
   ]
  },
  {
   "cell_type": "markdown",
   "id": "9ec24f02",
   "metadata": {},
   "source": [
    "$f(x)=2x^2_1+(x_2-1)^2\\rightarrow min, x \\in D=\\{x \\in R^2 | 2x_1+x_2=2\\} $"
   ]
  },
  {
   "cell_type": "code",
   "execution_count": 6,
   "id": "effbb67c6c04876f",
   "metadata": {
    "ExecuteTime": {
     "end_time": "2023-12-10T07:26:23.069812Z",
     "start_time": "2023-12-10T07:26:23.040639Z"
    }
   },
   "outputs": [
    {
     "name": "stdout",
     "output_type": "stream",
     "text": [
      "Inner Iters num: 11\n",
      "Solution x1=-0.333341 x2=0.666686\n"
     ]
    }
   ],
   "source": [
    "def func(x):\n",
    "    return 2 * x[0] ** 2 + (x[1] - 1) ** 2\n",
    "\n",
    "def F(x):\n",
    "    return 2 * x[0] + x[1]\n",
    "\n",
    "def penalty(x):\n",
    "    return 0.5 * np.linalg.norm(F(x)) ** 2\n",
    "\n",
    "def quadratic(x,N=10000): \n",
    "    c_k = 1\n",
    "    count = 0 \n",
    "    iters=0 \n",
    "    flag=True \n",
    "    eps=1e-5 \n",
    "    while flag:\n",
    "        curr_func = lambda x: func(x) + c_k * penalty(x) \n",
    "        x_old=x.copy()\n",
    "        data = scipy.optimize.minimize(curr_func, x)\n",
    "        iters+=data.nit\n",
    "        x=data.x \n",
    "        c_k += 1e5\n",
    "        count += 1\n",
    "        if np.linalg.norm(x-x_old) < eps or count>N:\n",
    "            flag=False\n",
    "    print(\"Inner Iters num: \" + str(iters))\n",
    "    return x\n",
    "x0 = np.array([-1.0, 1.0])\n",
    "result = quadratic(x0)\n",
    "print(f\"Solution x1={result[0]:2f} x2={result[1]:2f}\")"
   ]
  },
  {
   "cell_type": "markdown",
   "id": "8a0b5b64681716e7",
   "metadata": {},
   "source": [
    "# 6) Симплекс метод "
   ]
  },
  {
   "cell_type": "code",
   "execution_count": 9,
   "id": "e67d4aa0328cdb89",
   "metadata": {
    "ExecuteTime": {
     "end_time": "2023-12-09T19:03:39.672127Z",
     "start_time": "2023-12-09T19:03:39.641523Z"
    }
   },
   "outputs": [
    {
     "name": "stderr",
     "output_type": "stream",
     "text": [
      "/var/folders/zs/yzy0xdy166x3hv5mvqzqrnlm0000gn/T/ipykernel_8011/1998074309.py:12: DeprecationWarning: `method='simplex'` is deprecated and will be removed in SciPy 1.11.0. Please use one of the HiGHS solvers (e.g. `method='highs'`) in new code.\n",
      "  res = scipy.optimize.linprog(c, A_eq=A, b_eq=b, bounds=[x1_bounds, x2_bounds, x3_bounds,x4_bounds ], method='simplex')\n"
     ]
    },
    {
     "ename": "KeyError",
     "evalue": "0",
     "output_type": "error",
     "traceback": [
      "\u001b[0;31m---------------------------------------------------------------------------\u001b[0m",
      "\u001b[0;31mKeyError\u001b[0m                                  Traceback (most recent call last)",
      "Input \u001b[0;32mIn [9]\u001b[0m, in \u001b[0;36m<cell line: 14>\u001b[0;34m()\u001b[0m\n\u001b[1;32m     11\u001b[0m x4_bounds \u001b[38;5;241m=\u001b[39m (\u001b[38;5;241m0\u001b[39m, \u001b[38;5;28;01mNone\u001b[39;00m)\n\u001b[1;32m     12\u001b[0m res \u001b[38;5;241m=\u001b[39m scipy\u001b[38;5;241m.\u001b[39moptimize\u001b[38;5;241m.\u001b[39mlinprog(c, A_eq\u001b[38;5;241m=\u001b[39mA, b_eq\u001b[38;5;241m=\u001b[39mb, bounds\u001b[38;5;241m=\u001b[39m[x1_bounds, x2_bounds, x3_bounds,x4_bounds ], method\u001b[38;5;241m=\u001b[39m\u001b[38;5;124m'\u001b[39m\u001b[38;5;124msimplex\u001b[39m\u001b[38;5;124m'\u001b[39m)\n\u001b[0;32m---> 14\u001b[0m \u001b[38;5;28mprint\u001b[39m(\u001b[38;5;124mf\u001b[39m\u001b[38;5;124m'\u001b[39m\u001b[38;5;124mx1=\u001b[39m\u001b[38;5;132;01m{\u001b[39;00mres[\u001b[38;5;241m0\u001b[39m]\u001b[38;5;132;01m}\u001b[39;00m\u001b[38;5;124m, x2=\u001b[39m\u001b[38;5;132;01m{\u001b[39;00mres[\u001b[38;5;241m1\u001b[39m]\u001b[38;5;132;01m}\u001b[39;00m\u001b[38;5;124m, x3=\u001b[39m\u001b[38;5;132;01m{\u001b[39;00mres[\u001b[38;5;241m2\u001b[39m]\u001b[38;5;132;01m}\u001b[39;00m\u001b[38;5;124m'\u001b[39m)\n\u001b[1;32m     15\u001b[0m \u001b[38;5;28mprint\u001b[39m(\u001b[38;5;124mf\u001b[39m\u001b[38;5;124m'\u001b[39m\u001b[38;5;124mMinimum: \u001b[39m\u001b[38;5;132;01m{\u001b[39;00mfunc(res[:\u001b[38;5;241m-\u001b[39m\u001b[38;5;241m1\u001b[39m])\u001b[38;5;132;01m}\u001b[39;00m\u001b[38;5;124m'\u001b[39m)\n",
      "\u001b[0;31mKeyError\u001b[0m: 0"
     ]
    }
   ],
   "source": [
    "c = [-1, 3, 5, 1]\n",
    "A = [[1,4,4, 1], [1, 7, 8, 2]] \n",
    "b = [5, 9]\n",
    "\n",
    "def func(x):\n",
    "    return sum(c[:-1]*x)\n",
    "\n",
    "x1_bounds = (0, None) \n",
    "x2_bounds = (0, None)\n",
    "x3_bounds = (0, None) \n",
    "x4_bounds = (0, None)\n",
    "res = scipy.optimize.linprog(c, A_eq=A, b_eq=b, bounds=[x1_bounds, x2_bounds, x3_bounds,x4_bounds ], method='simplex')\n",
    "\n",
    "print(f'x1={res[0]}, x2={res[1]}, x3={res[2]}')\n",
    "print(f'Minimum: {func(res[:-1])}')"
   ]
  },
  {
   "cell_type": "code",
   "execution_count": 10,
   "id": "520d7fc729e80ec8",
   "metadata": {
    "ExecuteTime": {
     "end_time": "2023-12-09T19:04:08.427324Z",
     "start_time": "2023-12-09T19:04:08.420328Z"
    }
   },
   "outputs": [
    {
     "data": {
      "text/plain": [
       "     con: array([0., 0.])\n",
       "     fun: 3.0\n",
       " message: 'Optimization terminated successfully.'\n",
       "     nit: 3\n",
       "   slack: array([], dtype=float64)\n",
       "  status: 0\n",
       " success: True\n",
       "       x: array([1., 0., 0., 4.])"
      ]
     },
     "execution_count": 10,
     "metadata": {},
     "output_type": "execute_result"
    }
   ],
   "source": [
    "res"
   ]
  },
  {
   "cell_type": "code",
   "execution_count": 12,
   "id": "5656686fefba7cf6",
   "metadata": {
    "ExecuteTime": {
     "end_time": "2023-12-09T19:05:06.513637Z",
     "start_time": "2023-12-09T19:05:06.505530Z"
    }
   },
   "outputs": [
    {
     "name": "stdout",
     "output_type": "stream",
     "text": [
      "[[  1.   0.   0.   1.  17.]\n",
      " [  0.   1.   0.  -1. -16.]\n",
      " [  0.   0.   1.   1.  13.]]\n",
      "x1=17.0, x2=-16.0, x3=13.0,\n",
      "Minimum: 0.0\n"
     ]
    }
   ],
   "source": [
    "m= sp.Matrix([[1, 4, 4, 1,5], [1, 7, 8, 2,9],\n",
    "              [-1, 3, 5, 1,0]]) \n",
    "basis=np.array([1,0,1,0])\n",
    "basis_indeces=np.where(basis==1)\n",
    "ones_view_matrix, pivots = m.rref(normalize_last=True) \n",
    "ones_view_matrix=np.array(ones_view_matrix).astype(np.float32) \n",
    "print(ones_view_matrix)\n",
    "res=ones_view_matrix[:,-1]\n",
    "print(f'x1={res[0]}, x2={res[1]}, x3={res[2]},')\n",
    "print(f'Minimum: {func(res)}')"
   ]
  }
 ],
 "metadata": {
  "kernelspec": {
   "display_name": "Python 3 (ipykernel)",
   "language": "python",
   "name": "python3"
  },
  "language_info": {
   "codemirror_mode": {
    "name": "ipython",
    "version": 3
   },
   "file_extension": ".py",
   "mimetype": "text/x-python",
   "name": "python",
   "nbconvert_exporter": "python",
   "pygments_lexer": "ipython3",
   "version": "3.9.13"
  }
 },
 "nbformat": 4,
 "nbformat_minor": 5
}
